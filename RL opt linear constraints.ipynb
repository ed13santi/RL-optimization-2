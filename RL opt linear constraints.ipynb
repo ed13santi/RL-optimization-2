{
 "cells": [
  {
   "cell_type": "code",
   "execution_count": 2,
   "id": "c4352549",
   "metadata": {},
   "outputs": [],
   "source": [
    "## Import packages\n",
    "\n",
    "import numpy as np\n",
    "import matplotlib.pyplot as plt\n",
    "import copy"
   ]
  },
  {
   "cell_type": "code",
   "execution_count": 3,
   "id": "8f4b91e7",
   "metadata": {},
   "outputs": [],
   "source": [
    "## Set parameters\n",
    "\n",
    "# utility functions are a * x^0.5 + b\n",
    "a_vect = [1,1,1,1,1,1,1,1,1,1]\n",
    "b_vect = [0,0,0,0,0,0,0,0,0,0]\n",
    "\n",
    "K = len(a_vect)\n",
    "\n",
    "constr_A = np.array([[1, 0, 0, 0, 0, 0, 0, 0, 0, 0],\n",
    "                     [0, 1, 0, 0, 0, 0, 0, 0, 0, 0],\n",
    "                     [0, 0, 1, 0, 0, 0, 0, 0, 0, 0],\n",
    "                     [0, 0, 0, 1, 0, 0, 0, 0, 0, 0],\n",
    "                     [0, 0, 0, 0, 1, 0, 0, 0, 0, 0],\n",
    "                     [0, 0, 0, 0, 0, 1, 0, 0, 0, 0],\n",
    "                     [0, 0, 0, 0, 0, 0, 1, 0, 0, 0],\n",
    "                     [0, 0, 0, 0, 0, 0, 0, 1, 0, 0],\n",
    "                     [0, 0, 0, 0, 0, 0, 0, 0, 1, 0],\n",
    "                     [0, 0, 0, 0, 0, 0, 0, 0, 0, 1]])\n",
    "C = np.array([1,1,1,1,1,1,1,1,1,1])\n",
    "\n",
    "type_obj = 0 # 0 is sqrt root, 1 is log\n",
    "\n",
    "stop_iter = 1000\n",
    "delta_x = 0.01\n",
    "delta_l = 0.01"
   ]
  },
  {
   "cell_type": "code",
   "execution_count": 7,
   "id": "e447df7c",
   "metadata": {},
   "outputs": [],
   "source": [
    "## Functions of objective and constraint\n",
    "\n",
    "def sqrt_func(a, b, x):\n",
    "    return a * x**0.5 + b\n",
    "\n",
    "def der_sqrt_func(a, x):\n",
    "    if x == 0:\n",
    "        return 0.5 * a / (0.0001**0.5)\n",
    "    return 0.5 * a / (x**0.5)\n",
    "\n",
    "def log_func(a, b, x):\n",
    "    return log(np.dot(a, x) + 1) + b\n",
    "\n",
    "def der_log_func(a, x):\n",
    "    return a / (np.dot(a, x) + 1) + b\n",
    "    \n",
    "def lin_constr(A, C, x):\n",
    "    return C- np.matmul(A,x)\n",
    "\n",
    "local_objs = []\n",
    "for a,b in zip(a_vect, b_vect):\n",
    "    if type_obj == 0:\n",
    "        local_objs.append(lambda x, a=a, b=b: sqrt_func(a,b,x))\n",
    "    else:\n",
    "        local_objs.append(lambda x, a=a, b=b: log_func(a,b,x))\n",
    "        \n",
    "local_ders = []\n",
    "for a,b in zip(a_vect, b_vect):\n",
    "    if type_obj == 0:\n",
    "        local_ders.append(lambda x, a=a: der_sqrt_func(a,x))\n",
    "    else:\n",
    "        local_ders.append(lambda x, a=a: der_log_func(a,x))\n",
    "    \n",
    "def obj_func(x):\n",
    "    s = 0\n",
    "    for (x_i, f) in zip(x, local_objs):\n",
    "        s += f(x_i)\n",
    "    return s\n",
    "\n",
    "def obj_func_der(x):\n",
    "    out = np.zeros((K,))\n",
    "    for i in range(K):\n",
    "        out[i] = local_ders[i](x[i])\n",
    "    return out\n",
    "    \n",
    "constr = (lambda x, A=constr_A, C=C: lin_constr(A, C, x))"
   ]
  },
  {
   "cell_type": "code",
   "execution_count": null,
   "id": "fb3a347d",
   "metadata": {},
   "outputs": [],
   "source": []
  }
 ],
 "metadata": {
  "kernelspec": {
   "display_name": "Python 3 (ipykernel)",
   "language": "python",
   "name": "python3"
  },
  "language_info": {
   "codemirror_mode": {
    "name": "ipython",
    "version": 3
   },
   "file_extension": ".py",
   "mimetype": "text/x-python",
   "name": "python",
   "nbconvert_exporter": "python",
   "pygments_lexer": "ipython3",
   "version": "3.9.12"
  }
 },
 "nbformat": 4,
 "nbformat_minor": 5
}
